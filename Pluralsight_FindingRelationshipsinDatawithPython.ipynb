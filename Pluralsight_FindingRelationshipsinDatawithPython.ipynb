{
 "cells": [
  {
   "cell_type": "code",
   "execution_count": 116,
   "metadata": {},
   "outputs": [],
   "source": [
    "import pandas as pd\n",
    "import matplotlib.pyplot as plt\n",
    "import numpy as np\n",
    "from scipy.stats import pearsonr, spearmanr"
   ]
  },
  {
   "cell_type": "code",
   "execution_count": 69,
   "metadata": {
    "scrolled": false
   },
   "outputs": [
    {
     "data": {
      "text/plain": [
       "Index(['Month', 'M', 'Day', 'Year', 'Date', 'labor force participation rate',\n",
       "       'employment-population ratio', 'labor force', 'employment',\n",
       "       'unemployment', 'unemployment rate', 'UE_rate_raw', 'Unnamed: 12'],\n",
       "      dtype='object')"
      ]
     },
     "execution_count": 69,
     "metadata": {},
     "output_type": "execute_result"
    }
   ],
   "source": [
    "data = pd.read_csv('Unemployment_GA.csv')\n",
    "data.columns"
   ]
  },
  {
   "cell_type": "code",
   "execution_count": 70,
   "metadata": {},
   "outputs": [
    {
     "data": {
      "text/html": [
       "<div>\n",
       "<style scoped>\n",
       "    .dataframe tbody tr th:only-of-type {\n",
       "        vertical-align: middle;\n",
       "    }\n",
       "\n",
       "    .dataframe tbody tr th {\n",
       "        vertical-align: top;\n",
       "    }\n",
       "\n",
       "    .dataframe thead th {\n",
       "        text-align: right;\n",
       "    }\n",
       "</style>\n",
       "<table border=\"1\" class=\"dataframe\">\n",
       "  <thead>\n",
       "    <tr style=\"text-align: right;\">\n",
       "      <th></th>\n",
       "      <th>M</th>\n",
       "      <th>Day</th>\n",
       "      <th>Year</th>\n",
       "      <th>labor force participation rate</th>\n",
       "      <th>employment-population ratio</th>\n",
       "      <th>labor force</th>\n",
       "      <th>employment</th>\n",
       "      <th>unemployment</th>\n",
       "      <th>unemployment rate</th>\n",
       "      <th>UE_rate_raw</th>\n",
       "      <th>Unnamed: 12</th>\n",
       "    </tr>\n",
       "  </thead>\n",
       "  <tbody>\n",
       "    <tr>\n",
       "      <td>count</td>\n",
       "      <td>122.000000</td>\n",
       "      <td>122.0</td>\n",
       "      <td>122.000000</td>\n",
       "      <td>122.000000</td>\n",
       "      <td>122.000000</td>\n",
       "      <td>1.220000e+02</td>\n",
       "      <td>1.220000e+02</td>\n",
       "      <td>122.000000</td>\n",
       "      <td>122.000000</td>\n",
       "      <td>122.000000</td>\n",
       "      <td>0.0</td>\n",
       "    </tr>\n",
       "    <tr>\n",
       "      <td>mean</td>\n",
       "      <td>6.418033</td>\n",
       "      <td>1.0</td>\n",
       "      <td>2014.590164</td>\n",
       "      <td>62.945082</td>\n",
       "      <td>58.645902</td>\n",
       "      <td>4.869759e+06</td>\n",
       "      <td>4.541799e+06</td>\n",
       "      <td>327960.360656</td>\n",
       "      <td>6.804098</td>\n",
       "      <td>0.068041</td>\n",
       "      <td>NaN</td>\n",
       "    </tr>\n",
       "    <tr>\n",
       "      <td>std</td>\n",
       "      <td>3.496965</td>\n",
       "      <td>0.0</td>\n",
       "      <td>2.945101</td>\n",
       "      <td>0.959692</td>\n",
       "      <td>1.182248</td>\n",
       "      <td>1.561160e+05</td>\n",
       "      <td>2.591236e+05</td>\n",
       "      <td>112788.127799</td>\n",
       "      <td>2.493244</td>\n",
       "      <td>0.024932</td>\n",
       "      <td>NaN</td>\n",
       "    </tr>\n",
       "    <tr>\n",
       "      <td>min</td>\n",
       "      <td>1.000000</td>\n",
       "      <td>1.0</td>\n",
       "      <td>2010.000000</td>\n",
       "      <td>61.300000</td>\n",
       "      <td>56.700000</td>\n",
       "      <td>4.669893e+06</td>\n",
       "      <td>4.179456e+06</td>\n",
       "      <td>159611.000000</td>\n",
       "      <td>3.100000</td>\n",
       "      <td>0.031000</td>\n",
       "      <td>NaN</td>\n",
       "    </tr>\n",
       "    <tr>\n",
       "      <td>25%</td>\n",
       "      <td>3.000000</td>\n",
       "      <td>1.0</td>\n",
       "      <td>2012.000000</td>\n",
       "      <td>62.200000</td>\n",
       "      <td>57.700000</td>\n",
       "      <td>4.749078e+06</td>\n",
       "      <td>4.353149e+06</td>\n",
       "      <td>230389.500000</td>\n",
       "      <td>4.525000</td>\n",
       "      <td>0.045250</td>\n",
       "      <td>NaN</td>\n",
       "    </tr>\n",
       "    <tr>\n",
       "      <td>50%</td>\n",
       "      <td>6.000000</td>\n",
       "      <td>1.0</td>\n",
       "      <td>2015.000000</td>\n",
       "      <td>62.800000</td>\n",
       "      <td>58.100000</td>\n",
       "      <td>4.786992e+06</td>\n",
       "      <td>4.448456e+06</td>\n",
       "      <td>301832.000000</td>\n",
       "      <td>6.350000</td>\n",
       "      <td>0.063500</td>\n",
       "      <td>NaN</td>\n",
       "    </tr>\n",
       "    <tr>\n",
       "      <td>75%</td>\n",
       "      <td>9.000000</td>\n",
       "      <td>1.0</td>\n",
       "      <td>2017.000000</td>\n",
       "      <td>63.900000</td>\n",
       "      <td>60.000000</td>\n",
       "      <td>5.067762e+06</td>\n",
       "      <td>4.837372e+06</td>\n",
       "      <td>435898.750000</td>\n",
       "      <td>9.075000</td>\n",
       "      <td>0.090750</td>\n",
       "      <td>NaN</td>\n",
       "    </tr>\n",
       "    <tr>\n",
       "      <td>max</td>\n",
       "      <td>12.000000</td>\n",
       "      <td>1.0</td>\n",
       "      <td>2020.000000</td>\n",
       "      <td>65.100000</td>\n",
       "      <td>60.500000</td>\n",
       "      <td>5.156201e+06</td>\n",
       "      <td>4.995066e+06</td>\n",
       "      <td>502763.000000</td>\n",
       "      <td>10.600000</td>\n",
       "      <td>0.106000</td>\n",
       "      <td>NaN</td>\n",
       "    </tr>\n",
       "  </tbody>\n",
       "</table>\n",
       "</div>"
      ],
      "text/plain": [
       "                M    Day         Year  labor force participation rate  \\\n",
       "count  122.000000  122.0   122.000000                      122.000000   \n",
       "mean     6.418033    1.0  2014.590164                       62.945082   \n",
       "std      3.496965    0.0     2.945101                        0.959692   \n",
       "min      1.000000    1.0  2010.000000                       61.300000   \n",
       "25%      3.000000    1.0  2012.000000                       62.200000   \n",
       "50%      6.000000    1.0  2015.000000                       62.800000   \n",
       "75%      9.000000    1.0  2017.000000                       63.900000   \n",
       "max     12.000000    1.0  2020.000000                       65.100000   \n",
       "\n",
       "       employment-population ratio   labor force    employment   unemployment  \\\n",
       "count                   122.000000  1.220000e+02  1.220000e+02     122.000000   \n",
       "mean                     58.645902  4.869759e+06  4.541799e+06  327960.360656   \n",
       "std                       1.182248  1.561160e+05  2.591236e+05  112788.127799   \n",
       "min                      56.700000  4.669893e+06  4.179456e+06  159611.000000   \n",
       "25%                      57.700000  4.749078e+06  4.353149e+06  230389.500000   \n",
       "50%                      58.100000  4.786992e+06  4.448456e+06  301832.000000   \n",
       "75%                      60.000000  5.067762e+06  4.837372e+06  435898.750000   \n",
       "max                      60.500000  5.156201e+06  4.995066e+06  502763.000000   \n",
       "\n",
       "       unemployment rate  UE_rate_raw  Unnamed: 12  \n",
       "count         122.000000   122.000000          0.0  \n",
       "mean            6.804098     0.068041          NaN  \n",
       "std             2.493244     0.024932          NaN  \n",
       "min             3.100000     0.031000          NaN  \n",
       "25%             4.525000     0.045250          NaN  \n",
       "50%             6.350000     0.063500          NaN  \n",
       "75%             9.075000     0.090750          NaN  \n",
       "max            10.600000     0.106000          NaN  "
      ]
     },
     "execution_count": 70,
     "metadata": {},
     "output_type": "execute_result"
    }
   ],
   "source": [
    "data.describe()"
   ]
  },
  {
   "cell_type": "code",
   "execution_count": 72,
   "metadata": {},
   "outputs": [
    {
     "data": {
      "text/plain": [
       "<matplotlib.axes._subplots.AxesSubplot at 0x1ee76c69da0>"
      ]
     },
     "execution_count": 72,
     "metadata": {},
     "output_type": "execute_result"
    },
    {
     "data": {
      "image/png": "[encoded data removed]",
      "text/plain": [
       "<Figure size 864x576 with 1 Axes>"
      ]
     },
     "metadata": {
      "needs_background": "light"
     },
     "output_type": "display_data"
    }
   ],
   "source": [
    "data.boxplot('UE_rate_raw', figsize=(12, 8))"
   ]
  },
  {
   "cell_type": "code",
   "execution_count": 73,
   "metadata": {},
   "outputs": [
    {
     "data": {
      "text/plain": [
       "<matplotlib.axes._subplots.AxesSubplot at 0x1ee770e2cf8>"
      ]
     },
     "execution_count": 73,
     "metadata": {},
     "output_type": "execute_result"
    },
    {
     "data": {
      "image/png": "[encoded data removed]",
      "text/plain": [
       "<Figure size 864x576 with 1 Axes>"
      ]
     },
     "metadata": {
      "needs_background": "light"
     },
     "output_type": "display_data"
    }
   ],
   "source": [
    "data.boxplot(column=['UE_rate_raw'], by='Year', figsize=(12, 8))"
   ]
  },
  {
   "cell_type": "code",
   "execution_count": 74,
   "metadata": {},
   "outputs": [
    {
     "data": {
      "text/plain": [
       "<matplotlib.axes._subplots.AxesSubplot at 0x1ee74b716a0>"
      ]
     },
     "execution_count": 74,
     "metadata": {},
     "output_type": "execute_result"
    },
    {
     "data": {
      "image/png": "[encoded data removed]",
      "text/plain": [
       "<Figure size 864x576 with 1 Axes>"
      ]
     },
     "metadata": {
      "needs_background": "light"
     },
     "output_type": "display_data"
    }
   ],
   "source": [
    "data.boxplot(column=['UE_rate_raw'], by='M', figsize=(12, 8))"
   ]
  },
  {
   "cell_type": "code",
   "execution_count": 81,
   "metadata": {},
   "outputs": [
    {
     "data": {
      "text/html": [
       "<div>\n",
       "<style scoped>\n",
       "    .dataframe tbody tr th:only-of-type {\n",
       "        vertical-align: middle;\n",
       "    }\n",
       "\n",
       "    .dataframe tbody tr th {\n",
       "        vertical-align: top;\n",
       "    }\n",
       "\n",
       "    .dataframe thead th {\n",
       "        text-align: right;\n",
       "    }\n",
       "</style>\n",
       "<table border=\"1\" class=\"dataframe\">\n",
       "  <thead>\n",
       "    <tr style=\"text-align: right;\">\n",
       "      <th></th>\n",
       "      <th>Year</th>\n",
       "      <th>M</th>\n",
       "      <th>Day</th>\n",
       "      <th>labor force participation rate</th>\n",
       "      <th>employment-population ratio</th>\n",
       "      <th>labor force</th>\n",
       "      <th>employment</th>\n",
       "      <th>unemployment</th>\n",
       "      <th>unemployment rate</th>\n",
       "      <th>UE_rate_raw</th>\n",
       "      <th>Unnamed: 12</th>\n",
       "    </tr>\n",
       "  </thead>\n",
       "  <tbody>\n",
       "    <tr>\n",
       "      <td>0</td>\n",
       "      <td>2010</td>\n",
       "      <td>78</td>\n",
       "      <td>12</td>\n",
       "      <td>769.6</td>\n",
       "      <td>688.6</td>\n",
       "      <td>56345164</td>\n",
       "      <td>50424257</td>\n",
       "      <td>5920907</td>\n",
       "      <td>125.9</td>\n",
       "      <td>1.259</td>\n",
       "      <td>0.0</td>\n",
       "    </tr>\n",
       "    <tr>\n",
       "      <td>1</td>\n",
       "      <td>2011</td>\n",
       "      <td>78</td>\n",
       "      <td>12</td>\n",
       "      <td>772.2</td>\n",
       "      <td>693.0</td>\n",
       "      <td>56988535</td>\n",
       "      <td>51157007</td>\n",
       "      <td>5831528</td>\n",
       "      <td>122.8</td>\n",
       "      <td>1.228</td>\n",
       "      <td>0.0</td>\n",
       "    </tr>\n",
       "    <tr>\n",
       "      <td>2</td>\n",
       "      <td>2012</td>\n",
       "      <td>78</td>\n",
       "      <td>12</td>\n",
       "      <td>768.8</td>\n",
       "      <td>697.9</td>\n",
       "      <td>57456763</td>\n",
       "      <td>52181380</td>\n",
       "      <td>5275383</td>\n",
       "      <td>110.3</td>\n",
       "      <td>1.103</td>\n",
       "      <td>0.0</td>\n",
       "    </tr>\n",
       "    <tr>\n",
       "      <td>3</td>\n",
       "      <td>2013</td>\n",
       "      <td>78</td>\n",
       "      <td>12</td>\n",
       "      <td>755.5</td>\n",
       "      <td>693.6</td>\n",
       "      <td>57088471</td>\n",
       "      <td>52415953</td>\n",
       "      <td>4672518</td>\n",
       "      <td>98.4</td>\n",
       "      <td>0.984</td>\n",
       "      <td>0.0</td>\n",
       "    </tr>\n",
       "    <tr>\n",
       "      <td>4</td>\n",
       "      <td>2014</td>\n",
       "      <td>78</td>\n",
       "      <td>12</td>\n",
       "      <td>743.4</td>\n",
       "      <td>690.6</td>\n",
       "      <td>56875647</td>\n",
       "      <td>52841770</td>\n",
       "      <td>4033877</td>\n",
       "      <td>85.2</td>\n",
       "      <td>0.852</td>\n",
       "      <td>0.0</td>\n",
       "    </tr>\n",
       "    <tr>\n",
       "      <td>5</td>\n",
       "      <td>2015</td>\n",
       "      <td>78</td>\n",
       "      <td>12</td>\n",
       "      <td>737.6</td>\n",
       "      <td>693.5</td>\n",
       "      <td>57234217</td>\n",
       "      <td>53808443</td>\n",
       "      <td>3425774</td>\n",
       "      <td>71.8</td>\n",
       "      <td>0.718</td>\n",
       "      <td>0.0</td>\n",
       "    </tr>\n",
       "    <tr>\n",
       "      <td>6</td>\n",
       "      <td>2016</td>\n",
       "      <td>78</td>\n",
       "      <td>12</td>\n",
       "      <td>748.1</td>\n",
       "      <td>708.0</td>\n",
       "      <td>58967327</td>\n",
       "      <td>55793751</td>\n",
       "      <td>3173576</td>\n",
       "      <td>64.6</td>\n",
       "      <td>0.646</td>\n",
       "      <td>0.0</td>\n",
       "    </tr>\n",
       "    <tr>\n",
       "      <td>7</td>\n",
       "      <td>2017</td>\n",
       "      <td>78</td>\n",
       "      <td>12</td>\n",
       "      <td>758.1</td>\n",
       "      <td>722.7</td>\n",
       "      <td>60585823</td>\n",
       "      <td>57746014</td>\n",
       "      <td>2839809</td>\n",
       "      <td>56.3</td>\n",
       "      <td>0.563</td>\n",
       "      <td>0.0</td>\n",
       "    </tr>\n",
       "    <tr>\n",
       "      <td>8</td>\n",
       "      <td>2018</td>\n",
       "      <td>78</td>\n",
       "      <td>12</td>\n",
       "      <td>753.3</td>\n",
       "      <td>723.8</td>\n",
       "      <td>60967760</td>\n",
       "      <td>58559617</td>\n",
       "      <td>2408143</td>\n",
       "      <td>47.4</td>\n",
       "      <td>0.474</td>\n",
       "      <td>0.0</td>\n",
       "    </tr>\n",
       "    <tr>\n",
       "      <td>9</td>\n",
       "      <td>2019</td>\n",
       "      <td>78</td>\n",
       "      <td>12</td>\n",
       "      <td>747.9</td>\n",
       "      <td>722.2</td>\n",
       "      <td>61297060</td>\n",
       "      <td>59188157</td>\n",
       "      <td>2108903</td>\n",
       "      <td>41.2</td>\n",
       "      <td>0.412</td>\n",
       "      <td>0.0</td>\n",
       "    </tr>\n",
       "    <tr>\n",
       "      <td>10</td>\n",
       "      <td>2020</td>\n",
       "      <td>3</td>\n",
       "      <td>2</td>\n",
       "      <td>124.8</td>\n",
       "      <td>120.9</td>\n",
       "      <td>10303817</td>\n",
       "      <td>9983071</td>\n",
       "      <td>320746</td>\n",
       "      <td>6.2</td>\n",
       "      <td>0.062</td>\n",
       "      <td>0.0</td>\n",
       "    </tr>\n",
       "  </tbody>\n",
       "</table>\n",
       "</div>"
      ],
      "text/plain": [
       "    Year   M  Day  labor force participation rate  \\\n",
       "0   2010  78   12                           769.6   \n",
       "1   2011  78   12                           772.2   \n",
       "2   2012  78   12                           768.8   \n",
       "3   2013  78   12                           755.5   \n",
       "4   2014  78   12                           743.4   \n",
       "5   2015  78   12                           737.6   \n",
       "6   2016  78   12                           748.1   \n",
       "7   2017  78   12                           758.1   \n",
       "8   2018  78   12                           753.3   \n",
       "9   2019  78   12                           747.9   \n",
       "10  2020   3    2                           124.8   \n",
       "\n",
       "    employment-population ratio  labor force  employment  unemployment  \\\n",
       "0                         688.6     56345164    50424257       5920907   \n",
       "1                         693.0     56988535    51157007       5831528   \n",
       "2                         697.9     57456763    52181380       5275383   \n",
       "3                         693.6     57088471    52415953       4672518   \n",
       "4                         690.6     56875647    52841770       4033877   \n",
       "5                         693.5     57234217    53808443       3425774   \n",
       "6                         708.0     58967327    55793751       3173576   \n",
       "7                         722.7     60585823    57746014       2839809   \n",
       "8                         723.8     60967760    58559617       2408143   \n",
       "9                         722.2     61297060    59188157       2108903   \n",
       "10                        120.9     10303817     9983071        320746   \n",
       "\n",
       "    unemployment rate  UE_rate_raw  Unnamed: 12  \n",
       "0               125.9        1.259          0.0  \n",
       "1               122.8        1.228          0.0  \n",
       "2               110.3        1.103          0.0  \n",
       "3                98.4        0.984          0.0  \n",
       "4                85.2        0.852          0.0  \n",
       "5                71.8        0.718          0.0  \n",
       "6                64.6        0.646          0.0  \n",
       "7                56.3        0.563          0.0  \n",
       "8                47.4        0.474          0.0  \n",
       "9                41.2        0.412          0.0  \n",
       "10                6.2        0.062          0.0  "
      ]
     },
     "execution_count": 81,
     "metadata": {},
     "output_type": "execute_result"
    }
   ],
   "source": [
    "year_data = data.groupby('Year', as_index=False).sum()\n",
    "year_data"
   ]
  },
  {
   "cell_type": "code",
   "execution_count": 84,
   "metadata": {},
   "outputs": [],
   "source": [
    "year_data['UE_rate_corrected'] = year_data['unemployment'] / year_data['labor force'] * 100"
   ]
  },
  {
   "cell_type": "code",
   "execution_count": 85,
   "metadata": {},
   "outputs": [
    {
     "data": {
      "text/html": [
       "<div>\n",
       "<style scoped>\n",
       "    .dataframe tbody tr th:only-of-type {\n",
       "        vertical-align: middle;\n",
       "    }\n",
       "\n",
       "    .dataframe tbody tr th {\n",
       "        vertical-align: top;\n",
       "    }\n",
       "\n",
       "    .dataframe thead th {\n",
       "        text-align: right;\n",
       "    }\n",
       "</style>\n",
       "<table border=\"1\" class=\"dataframe\">\n",
       "  <thead>\n",
       "    <tr style=\"text-align: right;\">\n",
       "      <th></th>\n",
       "      <th>Year</th>\n",
       "      <th>M</th>\n",
       "      <th>Day</th>\n",
       "      <th>labor force participation rate</th>\n",
       "      <th>employment-population ratio</th>\n",
       "      <th>labor force</th>\n",
       "      <th>employment</th>\n",
       "      <th>unemployment</th>\n",
       "      <th>unemployment rate</th>\n",
       "      <th>UE_rate_raw</th>\n",
       "      <th>Unnamed: 12</th>\n",
       "      <th>UE_rate_corrected</th>\n",
       "    </tr>\n",
       "  </thead>\n",
       "  <tbody>\n",
       "    <tr>\n",
       "      <td>0</td>\n",
       "      <td>2010</td>\n",
       "      <td>78</td>\n",
       "      <td>12</td>\n",
       "      <td>769.6</td>\n",
       "      <td>688.6</td>\n",
       "      <td>56345164</td>\n",
       "      <td>50424257</td>\n",
       "      <td>5920907</td>\n",
       "      <td>125.9</td>\n",
       "      <td>1.259</td>\n",
       "      <td>0.0</td>\n",
       "      <td>10.508279</td>\n",
       "    </tr>\n",
       "    <tr>\n",
       "      <td>1</td>\n",
       "      <td>2011</td>\n",
       "      <td>78</td>\n",
       "      <td>12</td>\n",
       "      <td>772.2</td>\n",
       "      <td>693.0</td>\n",
       "      <td>56988535</td>\n",
       "      <td>51157007</td>\n",
       "      <td>5831528</td>\n",
       "      <td>122.8</td>\n",
       "      <td>1.228</td>\n",
       "      <td>0.0</td>\n",
       "      <td>10.232809</td>\n",
       "    </tr>\n",
       "    <tr>\n",
       "      <td>2</td>\n",
       "      <td>2012</td>\n",
       "      <td>78</td>\n",
       "      <td>12</td>\n",
       "      <td>768.8</td>\n",
       "      <td>697.9</td>\n",
       "      <td>57456763</td>\n",
       "      <td>52181380</td>\n",
       "      <td>5275383</td>\n",
       "      <td>110.3</td>\n",
       "      <td>1.103</td>\n",
       "      <td>0.0</td>\n",
       "      <td>9.181483</td>\n",
       "    </tr>\n",
       "    <tr>\n",
       "      <td>3</td>\n",
       "      <td>2013</td>\n",
       "      <td>78</td>\n",
       "      <td>12</td>\n",
       "      <td>755.5</td>\n",
       "      <td>693.6</td>\n",
       "      <td>57088471</td>\n",
       "      <td>52415953</td>\n",
       "      <td>4672518</td>\n",
       "      <td>98.4</td>\n",
       "      <td>0.984</td>\n",
       "      <td>0.0</td>\n",
       "      <td>8.184696</td>\n",
       "    </tr>\n",
       "    <tr>\n",
       "      <td>4</td>\n",
       "      <td>2014</td>\n",
       "      <td>78</td>\n",
       "      <td>12</td>\n",
       "      <td>743.4</td>\n",
       "      <td>690.6</td>\n",
       "      <td>56875647</td>\n",
       "      <td>52841770</td>\n",
       "      <td>4033877</td>\n",
       "      <td>85.2</td>\n",
       "      <td>0.852</td>\n",
       "      <td>0.0</td>\n",
       "      <td>7.092450</td>\n",
       "    </tr>\n",
       "    <tr>\n",
       "      <td>5</td>\n",
       "      <td>2015</td>\n",
       "      <td>78</td>\n",
       "      <td>12</td>\n",
       "      <td>737.6</td>\n",
       "      <td>693.5</td>\n",
       "      <td>57234217</td>\n",
       "      <td>53808443</td>\n",
       "      <td>3425774</td>\n",
       "      <td>71.8</td>\n",
       "      <td>0.718</td>\n",
       "      <td>0.0</td>\n",
       "      <td>5.985535</td>\n",
       "    </tr>\n",
       "    <tr>\n",
       "      <td>6</td>\n",
       "      <td>2016</td>\n",
       "      <td>78</td>\n",
       "      <td>12</td>\n",
       "      <td>748.1</td>\n",
       "      <td>708.0</td>\n",
       "      <td>58967327</td>\n",
       "      <td>55793751</td>\n",
       "      <td>3173576</td>\n",
       "      <td>64.6</td>\n",
       "      <td>0.646</td>\n",
       "      <td>0.0</td>\n",
       "      <td>5.381923</td>\n",
       "    </tr>\n",
       "    <tr>\n",
       "      <td>7</td>\n",
       "      <td>2017</td>\n",
       "      <td>78</td>\n",
       "      <td>12</td>\n",
       "      <td>758.1</td>\n",
       "      <td>722.7</td>\n",
       "      <td>60585823</td>\n",
       "      <td>57746014</td>\n",
       "      <td>2839809</td>\n",
       "      <td>56.3</td>\n",
       "      <td>0.563</td>\n",
       "      <td>0.0</td>\n",
       "      <td>4.687250</td>\n",
       "    </tr>\n",
       "    <tr>\n",
       "      <td>8</td>\n",
       "      <td>2018</td>\n",
       "      <td>78</td>\n",
       "      <td>12</td>\n",
       "      <td>753.3</td>\n",
       "      <td>723.8</td>\n",
       "      <td>60967760</td>\n",
       "      <td>58559617</td>\n",
       "      <td>2408143</td>\n",
       "      <td>47.4</td>\n",
       "      <td>0.474</td>\n",
       "      <td>0.0</td>\n",
       "      <td>3.949863</td>\n",
       "    </tr>\n",
       "    <tr>\n",
       "      <td>9</td>\n",
       "      <td>2019</td>\n",
       "      <td>78</td>\n",
       "      <td>12</td>\n",
       "      <td>747.9</td>\n",
       "      <td>722.2</td>\n",
       "      <td>61297060</td>\n",
       "      <td>59188157</td>\n",
       "      <td>2108903</td>\n",
       "      <td>41.2</td>\n",
       "      <td>0.412</td>\n",
       "      <td>0.0</td>\n",
       "      <td>3.440464</td>\n",
       "    </tr>\n",
       "    <tr>\n",
       "      <td>10</td>\n",
       "      <td>2020</td>\n",
       "      <td>3</td>\n",
       "      <td>2</td>\n",
       "      <td>124.8</td>\n",
       "      <td>120.9</td>\n",
       "      <td>10303817</td>\n",
       "      <td>9983071</td>\n",
       "      <td>320746</td>\n",
       "      <td>6.2</td>\n",
       "      <td>0.062</td>\n",
       "      <td>0.0</td>\n",
       "      <td>3.112885</td>\n",
       "    </tr>\n",
       "  </tbody>\n",
       "</table>\n",
       "</div>"
      ],
      "text/plain": [
       "    Year   M  Day  labor force participation rate  \\\n",
       "0   2010  78   12                           769.6   \n",
       "1   2011  78   12                           772.2   \n",
       "2   2012  78   12                           768.8   \n",
       "3   2013  78   12                           755.5   \n",
       "4   2014  78   12                           743.4   \n",
       "5   2015  78   12                           737.6   \n",
       "6   2016  78   12                           748.1   \n",
       "7   2017  78   12                           758.1   \n",
       "8   2018  78   12                           753.3   \n",
       "9   2019  78   12                           747.9   \n",
       "10  2020   3    2                           124.8   \n",
       "\n",
       "    employment-population ratio  labor force  employment  unemployment  \\\n",
       "0                         688.6     56345164    50424257       5920907   \n",
       "1                         693.0     56988535    51157007       5831528   \n",
       "2                         697.9     57456763    52181380       5275383   \n",
       "3                         693.6     57088471    52415953       4672518   \n",
       "4                         690.6     56875647    52841770       4033877   \n",
       "5                         693.5     57234217    53808443       3425774   \n",
       "6                         708.0     58967327    55793751       3173576   \n",
       "7                         722.7     60585823    57746014       2839809   \n",
       "8                         723.8     60967760    58559617       2408143   \n",
       "9                         722.2     61297060    59188157       2108903   \n",
       "10                        120.9     10303817     9983071        320746   \n",
       "\n",
       "    unemployment rate  UE_rate_raw  Unnamed: 12  UE_rate_corrected  \n",
       "0               125.9        1.259          0.0          10.508279  \n",
       "1               122.8        1.228          0.0          10.232809  \n",
       "2               110.3        1.103          0.0           9.181483  \n",
       "3                98.4        0.984          0.0           8.184696  \n",
       "4                85.2        0.852          0.0           7.092450  \n",
       "5                71.8        0.718          0.0           5.985535  \n",
       "6                64.6        0.646          0.0           5.381923  \n",
       "7                56.3        0.563          0.0           4.687250  \n",
       "8                47.4        0.474          0.0           3.949863  \n",
       "9                41.2        0.412          0.0           3.440464  \n",
       "10                6.2        0.062          0.0           3.112885  "
      ]
     },
     "execution_count": 85,
     "metadata": {},
     "output_type": "execute_result"
    }
   ],
   "source": [
    "year_data"
   ]
  },
  {
   "cell_type": "code",
   "execution_count": 88,
   "metadata": {},
   "outputs": [
    {
     "data": {
      "text/plain": [
       "<matplotlib.axes._subplots.AxesSubplot at 0x1ee77a96dd8>"
      ]
     },
     "execution_count": 88,
     "metadata": {},
     "output_type": "execute_result"
    },
    {
     "data": {
      "image/png": "[encoded data removed]",
      "text/plain": [
       "<Figure size 864x576 with 1 Axes>"
      ]
     },
     "metadata": {
      "needs_background": "light"
     },
     "output_type": "display_data"
    }
   ],
   "source": [
    "colors = ['C0', 'C1', 'C2', 'C3', 'C4', 'C5', 'C6', 'C7', 'C8', 'C9']\n",
    "year_data.plot.bar(x='Year', y='UE_rate_corrected', figsize=(12, 8), color= colors, legend=False)"
   ]
  },
  {
   "cell_type": "code",
   "execution_count": 89,
   "metadata": {},
   "outputs": [
    {
     "ename": "NameError",
     "evalue": "name 'plt' is not defined",
     "output_type": "error",
     "traceback": [
      "\u001b[1;31m---------------------------------------------------------------------------\u001b[0m",
      "\u001b[1;31mNameError\u001b[0m                                 Traceback (most recent call last)",
      "\u001b[1;32m<ipython-input-89-5693db9bd258>\u001b[0m in \u001b[0;36m<module>\u001b[1;34m\u001b[0m\n\u001b[1;32m----> 1\u001b[1;33m \u001b[0mplt\u001b[0m\u001b[1;33m.\u001b[0m\u001b[0mfigure\u001b[0m\u001b[1;33m(\u001b[0m\u001b[0mfigsize\u001b[0m\u001b[1;33m=\u001b[0m\u001b[1;33m(\u001b[0m\u001b[1;36m12\u001b[0m\u001b[1;33m,\u001b[0m\u001b[1;36m8\u001b[0m\u001b[1;33m)\u001b[0m\u001b[1;33m)\u001b[0m\u001b[1;33m\u001b[0m\u001b[1;33m\u001b[0m\u001b[0m\n\u001b[0m",
      "\u001b[1;31mNameError\u001b[0m: name 'plt' is not defined"
     ]
    }
   ],
   "source": [
    "plt.figure(figsize=(12,8))"
   ]
  },
  {
   "cell_type": "code",
   "execution_count": 96,
   "metadata": {},
   "outputs": [
    {
     "data": {
      "text/plain": [
       "<Figure size 864x576 with 0 Axes>"
      ]
     },
     "execution_count": 96,
     "metadata": {},
     "output_type": "execute_result"
    },
    {
     "data": {
      "text/plain": [
       "<Figure size 864x576 with 0 Axes>"
      ]
     },
     "metadata": {},
     "output_type": "display_data"
    }
   ],
   "source": [
    "plt.figure(figsize=(12,8))"
   ]
  },
  {
   "cell_type": "code",
   "execution_count": 94,
   "metadata": {},
   "outputs": [
    {
     "data": {
      "text/plain": [
       "<matplotlib.axes._subplots.AxesSubplot at 0x1ee797d5588>"
      ]
     },
     "execution_count": 94,
     "metadata": {},
     "output_type": "execute_result"
    },
    {
     "data": {
      "image/png": "[encoded data removed]",
      "text/plain": [
       "<Figure size 864x576 with 1 Axes>"
      ]
     },
     "metadata": {
      "needs_background": "light"
     },
     "output_type": "display_data"
    }
   ],
   "source": [
    "year_data['UE_rate_corrected'].plot.kde(figsize=(12, 8))"
   ]
  },
  {
   "cell_type": "code",
   "execution_count": 98,
   "metadata": {},
   "outputs": [
    {
     "data": {
      "text/plain": [
       "array([[ 1.        , -0.98841806],\n",
       "       [-0.98841806,  1.        ]])"
      ]
     },
     "execution_count": 98,
     "metadata": {},
     "output_type": "execute_result"
    }
   ],
   "source": [
    "np.corrcoef(data['unemployment rate'], data['Year'])"
   ]
  },
  {
   "cell_type": "code",
   "execution_count": 99,
   "metadata": {},
   "outputs": [
    {
     "data": {
      "text/plain": [
       "-0.9884180574829777"
      ]
     },
     "execution_count": 99,
     "metadata": {},
     "output_type": "execute_result"
    }
   ],
   "source": [
    "data['unemployment rate'].corr(data['Year'])"
   ]
  },
  {
   "cell_type": "code",
   "execution_count": 100,
   "metadata": {},
   "outputs": [
    {
     "data": {
      "text/plain": [
       "(-0.9884180574829783, 4.015746959952802e-100)"
      ]
     },
     "execution_count": 100,
     "metadata": {},
     "output_type": "execute_result"
    }
   ],
   "source": [
    "pearsonr(data['unemployment rate'], data['Year'])"
   ]
  },
  {
   "cell_type": "code",
   "execution_count": 101,
   "metadata": {},
   "outputs": [
    {
     "data": {
      "text/plain": [
       "SpearmanrResult(correlation=-0.9939631423370577, pvalue=4.962662880483722e-117)"
      ]
     },
     "execution_count": 101,
     "metadata": {},
     "output_type": "execute_result"
    }
   ],
   "source": [
    "spearmanr(data['unemployment rate'], data['Year'])"
   ]
  },
  {
   "cell_type": "code",
   "execution_count": 104,
   "metadata": {},
   "outputs": [
    {
     "data": {
      "image/png": "[encoded data removed]",
      "text/plain": [
       "<Figure size 864x576 with 1 Axes>"
      ]
     },
     "metadata": {
      "needs_background": "light"
     },
     "output_type": "display_data"
    }
   ],
   "source": [
    "plt.figure(figsize=(12, 8))\n",
    "plt.scatter(data['Date'], data['unemployment rate'], color='b')\n",
    "\n",
    "plt.title('Unemployment')\n",
    "plt.xlabel('Date')\n",
    "plt.ylabel('Unemployment rate')\n",
    "\n",
    "plt.show()"
   ]
  },
  {
   "cell_type": "code",
   "execution_count": 112,
   "metadata": {},
   "outputs": [
    {
     "data": {
      "text/plain": [
       "<matplotlib.axes._subplots.AxesSubplot at 0x1ee7b7414a8>"
      ]
     },
     "execution_count": 112,
     "metadata": {},
     "output_type": "execute_result"
    },
    {
     "data": {
      "image/png": "[encoded data removed]",
      "text/plain": [
       "<Figure size 864x576 with 1 Axes>"
      ]
     },
     "metadata": {
      "needs_background": "light"
     },
     "output_type": "display_data"
    }
   ],
   "source": [
    "ax = plt.subplot()\n",
    "\n",
    "year_data.groupby('Year').max()['UE_rate_corrected'].plot(kind='bar', figsize= (12, 8), ax = ax, color=['r', 'g', 'c', 'y', 'b', 'm'])"
   ]
  },
  {
   "cell_type": "code",
   "execution_count": 113,
   "metadata": {},
   "outputs": [
    {
     "data": {
      "text/html": [
       "<div>\n",
       "<style scoped>\n",
       "    .dataframe tbody tr th:only-of-type {\n",
       "        vertical-align: middle;\n",
       "    }\n",
       "\n",
       "    .dataframe tbody tr th {\n",
       "        vertical-align: top;\n",
       "    }\n",
       "\n",
       "    .dataframe thead th {\n",
       "        text-align: right;\n",
       "    }\n",
       "</style>\n",
       "<table border=\"1\" class=\"dataframe\">\n",
       "  <thead>\n",
       "    <tr style=\"text-align: right;\">\n",
       "      <th></th>\n",
       "      <th>M</th>\n",
       "      <th>Day</th>\n",
       "      <th>Year</th>\n",
       "      <th>labor force participation rate</th>\n",
       "      <th>employment-population ratio</th>\n",
       "      <th>labor force</th>\n",
       "      <th>employment</th>\n",
       "      <th>unemployment</th>\n",
       "      <th>unemployment rate</th>\n",
       "      <th>UE_rate_raw</th>\n",
       "      <th>Unnamed: 12</th>\n",
       "    </tr>\n",
       "  </thead>\n",
       "  <tbody>\n",
       "    <tr>\n",
       "      <td>M</td>\n",
       "      <td>1.000000</td>\n",
       "      <td>NaN</td>\n",
       "      <td>-0.043412</td>\n",
       "      <td>-0.036444</td>\n",
       "      <td>0.031702</td>\n",
       "      <td>0.036215</td>\n",
       "      <td>0.042837</td>\n",
       "      <td>-0.048289</td>\n",
       "      <td>-0.048067</td>\n",
       "      <td>-0.048067</td>\n",
       "      <td>NaN</td>\n",
       "    </tr>\n",
       "    <tr>\n",
       "      <td>Day</td>\n",
       "      <td>NaN</td>\n",
       "      <td>NaN</td>\n",
       "      <td>NaN</td>\n",
       "      <td>NaN</td>\n",
       "      <td>NaN</td>\n",
       "      <td>NaN</td>\n",
       "      <td>NaN</td>\n",
       "      <td>NaN</td>\n",
       "      <td>NaN</td>\n",
       "      <td>NaN</td>\n",
       "      <td>NaN</td>\n",
       "    </tr>\n",
       "    <tr>\n",
       "      <td>Year</td>\n",
       "      <td>-0.043412</td>\n",
       "      <td>NaN</td>\n",
       "      <td>1.000000</td>\n",
       "      <td>-0.615644</td>\n",
       "      <td>0.863738</td>\n",
       "      <td>0.901167</td>\n",
       "      <td>0.972004</td>\n",
       "      <td>-0.985765</td>\n",
       "      <td>-0.988418</td>\n",
       "      <td>-0.988418</td>\n",
       "      <td>NaN</td>\n",
       "    </tr>\n",
       "    <tr>\n",
       "      <td>labor force participation rate</td>\n",
       "      <td>-0.036444</td>\n",
       "      <td>NaN</td>\n",
       "      <td>-0.615644</td>\n",
       "      <td>1.000000</td>\n",
       "      <td>-0.158665</td>\n",
       "      <td>-0.231316</td>\n",
       "      <td>-0.443151</td>\n",
       "      <td>0.697936</td>\n",
       "      <td>0.677038</td>\n",
       "      <td>0.677038</td>\n",
       "      <td>NaN</td>\n",
       "    </tr>\n",
       "    <tr>\n",
       "      <td>employment-population ratio</td>\n",
       "      <td>0.031702</td>\n",
       "      <td>NaN</td>\n",
       "      <td>0.863738</td>\n",
       "      <td>-0.158665</td>\n",
       "      <td>1.000000</td>\n",
       "      <td>0.989208</td>\n",
       "      <td>0.951631</td>\n",
       "      <td>-0.817097</td>\n",
       "      <td>-0.833427</td>\n",
       "      <td>-0.833427</td>\n",
       "      <td>NaN</td>\n",
       "    </tr>\n",
       "    <tr>\n",
       "      <td>labor force</td>\n",
       "      <td>0.036215</td>\n",
       "      <td>NaN</td>\n",
       "      <td>0.901167</td>\n",
       "      <td>-0.231316</td>\n",
       "      <td>0.989208</td>\n",
       "      <td>1.000000</td>\n",
       "      <td>0.973913</td>\n",
       "      <td>-0.853351</td>\n",
       "      <td>-0.867622</td>\n",
       "      <td>-0.867622</td>\n",
       "      <td>NaN</td>\n",
       "    </tr>\n",
       "    <tr>\n",
       "      <td>employment</td>\n",
       "      <td>0.042837</td>\n",
       "      <td>NaN</td>\n",
       "      <td>0.972004</td>\n",
       "      <td>-0.443151</td>\n",
       "      <td>0.951631</td>\n",
       "      <td>0.973913</td>\n",
       "      <td>1.000000</td>\n",
       "      <td>-0.949392</td>\n",
       "      <td>-0.957748</td>\n",
       "      <td>-0.957748</td>\n",
       "      <td>NaN</td>\n",
       "    </tr>\n",
       "    <tr>\n",
       "      <td>unemployment</td>\n",
       "      <td>-0.048289</td>\n",
       "      <td>NaN</td>\n",
       "      <td>-0.985765</td>\n",
       "      <td>0.697936</td>\n",
       "      <td>-0.817097</td>\n",
       "      <td>-0.853351</td>\n",
       "      <td>-0.949392</td>\n",
       "      <td>1.000000</td>\n",
       "      <td>0.999443</td>\n",
       "      <td>0.999443</td>\n",
       "      <td>NaN</td>\n",
       "    </tr>\n",
       "    <tr>\n",
       "      <td>unemployment rate</td>\n",
       "      <td>-0.048067</td>\n",
       "      <td>NaN</td>\n",
       "      <td>-0.988418</td>\n",
       "      <td>0.677038</td>\n",
       "      <td>-0.833427</td>\n",
       "      <td>-0.867622</td>\n",
       "      <td>-0.957748</td>\n",
       "      <td>0.999443</td>\n",
       "      <td>1.000000</td>\n",
       "      <td>1.000000</td>\n",
       "      <td>NaN</td>\n",
       "    </tr>\n",
       "    <tr>\n",
       "      <td>UE_rate_raw</td>\n",
       "      <td>-0.048067</td>\n",
       "      <td>NaN</td>\n",
       "      <td>-0.988418</td>\n",
       "      <td>0.677038</td>\n",
       "      <td>-0.833427</td>\n",
       "      <td>-0.867622</td>\n",
       "      <td>-0.957748</td>\n",
       "      <td>0.999443</td>\n",
       "      <td>1.000000</td>\n",
       "      <td>1.000000</td>\n",
       "      <td>NaN</td>\n",
       "    </tr>\n",
       "    <tr>\n",
       "      <td>Unnamed: 12</td>\n",
       "      <td>NaN</td>\n",
       "      <td>NaN</td>\n",
       "      <td>NaN</td>\n",
       "      <td>NaN</td>\n",
       "      <td>NaN</td>\n",
       "      <td>NaN</td>\n",
       "      <td>NaN</td>\n",
       "      <td>NaN</td>\n",
       "      <td>NaN</td>\n",
       "      <td>NaN</td>\n",
       "      <td>NaN</td>\n",
       "    </tr>\n",
       "  </tbody>\n",
       "</table>\n",
       "</div>"
      ],
      "text/plain": [
       "                                       M  Day      Year  \\\n",
       "M                               1.000000  NaN -0.043412   \n",
       "Day                                  NaN  NaN       NaN   \n",
       "Year                           -0.043412  NaN  1.000000   \n",
       "labor force participation rate -0.036444  NaN -0.615644   \n",
       "employment-population ratio     0.031702  NaN  0.863738   \n",
       "labor force                     0.036215  NaN  0.901167   \n",
       "employment                      0.042837  NaN  0.972004   \n",
       "unemployment                   -0.048289  NaN -0.985765   \n",
       "unemployment rate              -0.048067  NaN -0.988418   \n",
       "UE_rate_raw                    -0.048067  NaN -0.988418   \n",
       "Unnamed: 12                          NaN  NaN       NaN   \n",
       "\n",
       "                                labor force participation rate  \\\n",
       "M                                                    -0.036444   \n",
       "Day                                                        NaN   \n",
       "Year                                                 -0.615644   \n",
       "labor force participation rate                        1.000000   \n",
       "employment-population ratio                          -0.158665   \n",
       "labor force                                          -0.231316   \n",
       "employment                                           -0.443151   \n",
       "unemployment                                          0.697936   \n",
       "unemployment rate                                     0.677038   \n",
       "UE_rate_raw                                           0.677038   \n",
       "Unnamed: 12                                                NaN   \n",
       "\n",
       "                                employment-population ratio  labor force  \\\n",
       "M                                                  0.031702     0.036215   \n",
       "Day                                                     NaN          NaN   \n",
       "Year                                               0.863738     0.901167   \n",
       "labor force participation rate                    -0.158665    -0.231316   \n",
       "employment-population ratio                        1.000000     0.989208   \n",
       "labor force                                        0.989208     1.000000   \n",
       "employment                                         0.951631     0.973913   \n",
       "unemployment                                      -0.817097    -0.853351   \n",
       "unemployment rate                                 -0.833427    -0.867622   \n",
       "UE_rate_raw                                       -0.833427    -0.867622   \n",
       "Unnamed: 12                                             NaN          NaN   \n",
       "\n",
       "                                employment  unemployment  unemployment rate  \\\n",
       "M                                 0.042837     -0.048289          -0.048067   \n",
       "Day                                    NaN           NaN                NaN   \n",
       "Year                              0.972004     -0.985765          -0.988418   \n",
       "labor force participation rate   -0.443151      0.697936           0.677038   \n",
       "employment-population ratio       0.951631     -0.817097          -0.833427   \n",
       "labor force                       0.973913     -0.853351          -0.867622   \n",
       "employment                        1.000000     -0.949392          -0.957748   \n",
       "unemployment                     -0.949392      1.000000           0.999443   \n",
       "unemployment rate                -0.957748      0.999443           1.000000   \n",
       "UE_rate_raw                      -0.957748      0.999443           1.000000   \n",
       "Unnamed: 12                            NaN           NaN                NaN   \n",
       "\n",
       "                                UE_rate_raw  Unnamed: 12  \n",
       "M                                 -0.048067          NaN  \n",
       "Day                                     NaN          NaN  \n",
       "Year                              -0.988418          NaN  \n",
       "labor force participation rate     0.677038          NaN  \n",
       "employment-population ratio       -0.833427          NaN  \n",
       "labor force                       -0.867622          NaN  \n",
       "employment                        -0.957748          NaN  \n",
       "unemployment                       0.999443          NaN  \n",
       "unemployment rate                  1.000000          NaN  \n",
       "UE_rate_raw                        1.000000          NaN  \n",
       "Unnamed: 12                             NaN          NaN  "
      ]
     },
     "execution_count": 113,
     "metadata": {},
     "output_type": "execute_result"
    }
   ],
   "source": [
    "data.corr()"
   ]
  },
  {
   "cell_type": "code",
   "execution_count": 114,
   "metadata": {},
   "outputs": [
    {
     "data": {
      "image/png": "[encoded data removed]",
      "text/plain": [
       "<Figure size 864x576 with 2 Axes>"
      ]
     },
     "metadata": {
      "needs_background": "light"
     },
     "output_type": "display_data"
    }
   ],
   "source": [
    "plt.figure(figsize=(12, 8))\n",
    "\n",
    "plt.matshow(data.corr(), fignum=False, aspect='equal')\n",
    "\n",
    "columns = len(data.columns)\n",
    "\n",
    "plt.xticks(range(columns), data.columns)\n",
    "plt.yticks(range(columns), data.columns)\n",
    "\n",
    "plt.colorbar()\n",
    "plt.xticks(rotation=90)\n",
    "plt.title('Correlations', y=1.2)\n",
    "\n",
    "plt.show()"
   ]
  },
  {
   "cell_type": "code",
   "execution_count": null,
   "metadata": {},
   "outputs": [],
   "source": []
  }
 ],
 "metadata": {
  "kernelspec": {
   "display_name": "Python 3",
   "language": "python",
   "name": "python3"
  },
  "language_info": {
   "codemirror_mode": {
    "name": "ipython",
    "version": 3
   },
   "file_extension": ".py",
   "mimetype": "text/x-python",
   "name": "python",
   "nbconvert_exporter": "python",
   "pygments_lexer": "ipython3",
   "version": "3.6.9"
  }
 },
 "nbformat": 4,
 "nbformat_minor": 2
}
